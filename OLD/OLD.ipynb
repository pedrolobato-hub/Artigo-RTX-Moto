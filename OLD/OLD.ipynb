{
 "cells": [
  {
   "cell_type": "code",
   "execution_count": null,
   "id": "3f27c947",
   "metadata": {
    "vscode": {
     "languageId": "plaintext"
    }
   },
   "outputs": [],
   "source": [
    "#teste de normalidade dos tratamentos\n",
    "import numpy as np\n",
    "from scipy.stats import shapiro, gaussian_kde\n",
    "data_box_abs = [df_diff[diff_trats].dropna().values for trat in trats]\n",
    "shapiro_results = {}\n",
    "for i, data in enumerate(data_box_abs):\n",
    "    stat, p_value = shapiro(data)\n",
    "    shapiro_results[trats[i]] = (stat, p_value) # Armazena o resultado do teste\n",
    "    print(f'Tratamento: {trats[i]}, Estatística de Shapiro-Wilk: {stat:.4f}, p-valor: {p_value:.4f}')\n",
    "\n",
    "# Análise de densidade para dados não normais   \n",
    "import matplotlib.pyplot as plt\n",
    "fig, axs = plt.subplots(len(data_box_abs), 1, figsize=(8, 4 * len(data_box_abs)))\n",
    "for i, data in enumerate(data_box_abs):\n",
    "    data = np.array(data)\n",
    "    data = data[~np.isnan(data)]\n",
    "    if len(data) > 1:\n",
    "        kde = gaussian_kde(data)\n",
    "        min_val, max_val = np.percentile(data, [25, 75])\n",
    "        x_vals = np.linspace(min_val - 3 * kde.factor, max_val + 3 * kde.factor, 1000)\n",
    "        axs[i].plot(x_vals, kde(x_vals), label='KDE')\n",
    "        axs[i].hist(data, bins=30, density=True, alpha=0.5, label='Histograma')\n",
    "        axs[i].set_title(f'Análise de Densidade - {trats[i]}')\n",
    "        axs[i].set_xlabel('Discrepância Absoluta (m)')\n",
    "        axs[i].set_ylabel('Densidade')\n",
    "        axs[i].legend()\n",
    "plt.tight_layout()\n",
    "plt.show()\n",
    "plt.savefig('densidade_discrepancias_absolutas.png', dpi=300, bbox_inches='tight')\n",
    "\n",
    "#Teste de homocedasticidade de Levene\n",
    "from scipy.stats import levene\n",
    "levene_results = levene(*data_box_abs)\n",
    "print(f'Teste de Levene - Estatística: {levene_results.statistic:.4f}, p-valor: {levene_results.pvalue:.4f}')\n",
    "'''\n",
    "#Como os dados não são normais e não possuem homocedasticidade, será utilizado o teste não paramétrico de Kruskal-Wallis\n",
    "from scipy.stats import kruskal\n",
    "kruskal_results = kruskal(*data_box_abs)\n",
    "print(f'Teste de Kruskal-Wallis - Estatística: {kruskal_results.statistic:.4f}, p-valor: {kruskal_results.pvalue:.4f}')\n",
    "#Teste post-hoc de Dunn com correção de Bonferroni\n",
    "import scikit_posthocs as sp        \n",
    "dunn_results = sp.posthoc_dunn(data_box_abs, p_adjust='bonferroni')\n",
    "dunn_results.index = trats\n",
    "dunn_results.columns = trats\n",
    "print('Teste post-hoc de Dunn com correção de Bonferroni:')\n",
    "print(dunn_results)\n",
    "dunn_results.to_excel('dunn_posthoc_results.xlsx')\n",
    "\n",
    "'''"
   ]
  },
  {
   "cell_type": "code",
   "execution_count": null,
   "id": "1ffd2e36",
   "metadata": {
    "vscode": {
     "languageId": "plaintext"
    }
   },
   "outputs": [],
   "source": [
    "#GRAFICOS COM PYQTGRAPH\n",
    "import pyqtgraph as pg\n",
    "plot_widget = pg.PlotWidget()\n",
    "plot_widget.plot([1,2,3], [4,5,6])\n",
    "layout.addWidget(plot_widget)\n",
    "import pyqtgraph as pg\n",
    "import numpy as np\n",
    "from pyqtgraph.Qt import QtWidgets\n",
    "\n",
    "# Create the application\n",
    "app = QtWidgets.QApplication([])\n",
    "\n",
    "# Create window and layout\n",
    "win = pg.GraphicsLayoutWidget(show=True)\n",
    "win.setWindowTitle('Boxplots de Discrepâncias')\n",
    "\n",
    "# Create plots\n",
    "p1 = win.addPlot(title=\"Discrepâncias\")\n",
    "p2 = win.addPlot(title=\"Discrepâncias Absolutas\")\n",
    "win.nextRow()\n",
    "\n",
    "# Convert dataframes to numpy arrays for plotting\n",
    "data_diff = [df_diff[col].values for col in df_diff.columns]\n",
    "data_abs = [df_diff_abs[col].values for col in df_diff_abs.columns]\n",
    "\n",
    "# Create box plots\n",
    "box1 = pg.BoxPlotItem(data=data_diff, labels=df_diff.columns.tolist())\n",
    "box2 = pg.BoxPlotItem(data=data_abs, labels=df_diff_abs.columns.tolist())\n",
    "\n",
    "p1.addItem(box1)\n",
    "p2.addItem(box2)\n",
    "\n",
    "# Set labels\n",
    "p1.setLabel('left', 'Discrepância (m)')\n",
    "p2.setLabel('left', 'Discrepância Absoluta (m)')\n",
    "\n",
    "# Show the plots\n",
    "if __name__ == '__main__':\n",
    "    pg.exec()"
   ]
  }
 ],
 "metadata": {
  "language_info": {
   "name": "python"
  }
 },
 "nbformat": 4,
 "nbformat_minor": 5
}
